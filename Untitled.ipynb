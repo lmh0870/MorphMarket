{
 "cells": [
  {
   "cell_type": "code",
   "execution_count": 91,
   "source": [
    "from readHtml import htmlBox\r\n",
    "\r\n",
    "box = htmlBox.boxClass()\r\n"
   ],
   "outputs": [],
   "metadata": {}
  },
  {
   "cell_type": "code",
   "execution_count": 98,
   "source": [
    "box.boxGather(1, 3, r'C:\\Users\\Newcrop\\Desktop\\sample1.xlsx')"
   ],
   "outputs": [
    {
     "output_type": "stream",
     "name": "stdout",
     "text": [
      "Start\n",
      "Done\n"
     ]
    }
   ],
   "metadata": {}
  },
  {
   "cell_type": "code",
   "execution_count": 100,
   "source": [
    "url = 'https://www.morphmarket.com/us/search?q=&q=&cat=2&sex=&maturity=0&min_weight=0&max_weight=1000000&prey_state=0&prey_food=0&min_genes=4&max_genes=9&traits=&neg_traits=&min_price=0&max_price=1000000&cur=USD&epoch=0&store=&nearby_location=&lat=&lng=&radius=&country=&export=&sort=def&layout=grid&page='"
   ],
   "outputs": [
    {
     "output_type": "execute_result",
     "data": {
      "text/plain": [
       "'224'"
      ]
     },
     "metadata": {},
     "execution_count": 100
    }
   ],
   "metadata": {}
  },
  {
   "cell_type": "code",
   "execution_count": 106,
   "source": [
    "len(elem)"
   ],
   "outputs": [
    {
     "output_type": "execute_result",
     "data": {
      "text/plain": [
       "20"
      ]
     },
     "metadata": {},
     "execution_count": 106
    }
   ],
   "metadata": {}
  }
 ],
 "metadata": {
  "kernelspec": {
   "name": "python3",
   "display_name": "Python 3.8.11 64-bit ('base': conda)"
  },
  "language_info": {
   "codemirror_mode": {
    "name": "ipython",
    "version": 3
   },
   "file_extension": ".py",
   "mimetype": "text/x-python",
   "name": "python",
   "nbconvert_exporter": "python",
   "pygments_lexer": "ipython3",
   "version": "3.8.11"
  },
  "interpreter": {
   "hash": "a707b6ce8c685eb936424fcc3009d4b4b7a52543c4db09380a3fc49186ceb509"
  }
 },
 "nbformat": 4,
 "nbformat_minor": 5
}